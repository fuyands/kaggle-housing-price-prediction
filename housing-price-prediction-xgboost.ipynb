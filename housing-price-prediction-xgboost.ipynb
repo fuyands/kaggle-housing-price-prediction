{
 "cells": [
  {
   "cell_type": "markdown",
   "id": "efbc402f",
   "metadata": {
    "execution": {
     "iopub.execute_input": "2022-07-24T19:25:05.211221Z",
     "iopub.status.busy": "2022-07-24T19:25:05.210113Z",
     "iopub.status.idle": "2022-07-24T19:25:06.557523Z",
     "shell.execute_reply": "2022-07-24T19:25:06.556722Z"
    },
    "papermill": {
     "duration": 1.359275,
     "end_time": "2022-07-24T19:25:06.559971",
     "exception": false,
     "start_time": "2022-07-24T19:25:05.200696",
     "status": "completed"
    },
    "tags": []
   },
   "source": [
    "# Notebook Summary\n",
    "\n",
    "\n",
    "## **Steps**\n",
    "- Using XGBoost regressor to predict housing price. \n",
    "- Combine training and testing data to get complete cardinality for one-hot-encoding through sklearn.\n",
    "- Feature processing:\n",
    "\t- Remove outlier through manual identification of feature distribution\n",
    "\t- One-hot encoding on categorical features\n",
    "\t- Normalization on numerical features using MinMaxScaling\n",
    "- Train test split should be performed after the encoding.\n",
    "\n",
    "## **Learnings**\n",
    "**What helps on this task:**\n",
    "- Include all features\n",
    "- Increase n_estimators and early-stopping criteria\n",
    "- Remove samples with outlier from LotArea (manually identified)\n",
    "- log transformation to reduce non-constant variance over predictions\n",
    "\n",
    "**What didn't help on this task:**\n",
    "- Imputation does not help (strategy=constant)\n",
    "- Remove features who present with high coefficient of variance\n",
    "- Removing outliers identified through some feature distributions\n",
    "- Adding MinMaxScaler to numerical features"
   ]
  },
  {
   "cell_type": "markdown",
   "id": "bdacfc2d",
   "metadata": {},
   "source": [
    "## Load data"
   ]
  },
  {
   "cell_type": "code",
   "execution_count": null,
   "id": "769f2dfa",
   "metadata": {},
   "outputs": [],
   "source": [
    "import pandas as pd\n",
    "import numpy as np\n",
    "from sklearn.ensemble import RandomForestRegressor\n",
    "from sklearn.metrics import mean_absolute_error\n",
    "from sklearn.model_selection import train_test_split\n",
    "\n",
    "# Load the data, and separate the target\n",
    "iowa_file_path = '../input/train.csv'\n",
    "home_data_all = pd.read_csv(iowa_file_path, index_col=\"Id\")\n",
    "home_data = home_data_all[home_data_all[\"LotArea\"]<45000]\n",
    "\n",
    "y = np.log(home_data.SalePrice)\n",
    "X = home_data.drop(['SalePrice'], axis='columns')\n",
    "\n",
    "test_data_path = '../input/test.csv'\n",
    "X_test = pd.read_csv(test_data_path, index_col='Id')\n",
    "\n",
    "X['mode']=0\n",
    "X_test['mode']=1\n",
    "X_all = pd.concat([X, X_test])"
   ]
  },
  {
   "cell_type": "markdown",
   "id": "4232d510",
   "metadata": {
    "papermill": {
     "duration": 0.003498,
     "end_time": "2022-07-24T19:25:06.567643",
     "exception": false,
     "start_time": "2022-07-24T19:25:06.564145",
     "status": "completed"
    },
    "tags": []
   },
   "source": [
    "## Explore data"
   ]
  },
  {
   "cell_type": "code",
   "execution_count": 2,
   "id": "600f094c",
   "metadata": {
    "execution": {
     "iopub.execute_input": "2022-07-24T19:25:06.577026Z",
     "iopub.status.busy": "2022-07-24T19:25:06.576485Z",
     "iopub.status.idle": "2022-07-24T19:25:06.602172Z",
     "shell.execute_reply": "2022-07-24T19:25:06.601108Z"
    },
    "papermill": {
     "duration": 0.033045,
     "end_time": "2022-07-24T19:25:06.604458",
     "exception": false,
     "start_time": "2022-07-24T19:25:06.571413",
     "status": "completed"
    },
    "tags": []
   },
   "outputs": [
    {
     "name": "stdout",
     "output_type": "stream",
     "text": [
      "[]\n",
      "37\n"
     ]
    }
   ],
   "source": [
    "# 1. Is there all null column\n",
    "col_with_missing = [c for c in X_all.columns if X_all[c].isnull().all()]\n",
    "print(col_with_missing)\n",
    "\n",
    "# 2. plot numerical col dist to identify outliers\n",
    "s = (X.dtypes == 'object')\n",
    "numerical_cols = list(s[s==False].index)\n",
    "print(len(numerical_cols))\n",
    "\n",
    "# for i in range(len(numerical_cols)):\n",
    "#     plt.figure(figsize=(4, 3))\n",
    "#     col_name = numerical_cols[i]\n",
    "#     ax = sns.scatterplot(x=X_val[col_name], y=y_val)\n",
    "    \n",
    "# manually try out outlier condition\n",
    "# LotArea > 45000\n",
    "# LowQualFinSF > 100\n",
    "# GrLivArea > 4000\n",
    "# PoolArea > 500\n",
    "# MisVal > 2500"
   ]
  },
  {
   "cell_type": "markdown",
   "id": "8964f519",
   "metadata": {
    "papermill": {
     "duration": 0.003494,
     "end_time": "2022-07-24T19:25:06.611864",
     "exception": false,
     "start_time": "2022-07-24T19:25:06.608370",
     "status": "completed"
    },
    "tags": []
   },
   "source": [
    "## Process features"
   ]
  },
  {
   "cell_type": "code",
   "execution_count": 3,
   "id": "fc1a7aee",
   "metadata": {
    "execution": {
     "iopub.execute_input": "2022-07-24T19:25:06.621234Z",
     "iopub.status.busy": "2022-07-24T19:25:06.620636Z",
     "iopub.status.idle": "2022-07-24T19:25:06.698075Z",
     "shell.execute_reply": "2022-07-24T19:25:06.696990Z"
    },
    "papermill": {
     "duration": 0.084506,
     "end_time": "2022-07-24T19:25:06.700107",
     "exception": false,
     "start_time": "2022-07-24T19:25:06.615601",
     "status": "completed"
    },
    "tags": []
   },
   "outputs": [
    {
     "name": "stdout",
     "output_type": "stream",
     "text": [
      "(2906, 311)\n"
     ]
    }
   ],
   "source": [
    "# identify categorical and its cardinality for encoding\n",
    "s = (X.dtypes == 'object')\n",
    "categorical_cols = list(s[s==True].index)\n",
    "for c in categorical_cols:\n",
    "    print(c, X[c].nunique())\n",
    "\n",
    "def impute(X_numerical):\n",
    "    # Perform imputation on numerical cols\n",
    "    # Remember to copy back column names and index as imputation removed them\n",
    "    import numpy as np\n",
    "    from sklearn.impute import SimpleImputer\n",
    "    imputer = SimpleImputer(strategy='constant')\n",
    "    X_numerical_imputed = pd.DataFrame(imputer.fit_transform(X_numerical))\n",
    "    X_numerical_imputed.columns = X_numerical.columns\n",
    "    X_numerical_imputed.index = X_numerical.index\n",
    "    return X_numerical_imputed\n",
    "\n",
    "def encoding(X, categorical_cols):\n",
    "    # Apply one-hot encoder to each column with categorical data\n",
    "    from sklearn.preprocessing import OneHotEncoder\n",
    "    OH_encoder = OneHotEncoder(handle_unknown='ignore', sparse=False)\n",
    "    X_categorical_oh = pd.DataFrame(OH_encoder.fit_transform(X[categorical_cols]))\n",
    "\n",
    "    # One-hot encoding removed index; put it back\n",
    "    X_categorical_oh.index = X.index\n",
    "    return X_categorical_oh\n",
    "    \n",
    "def process_features(X, categorical_cols):\n",
    "    '''\n",
    "    - impute numerical features\n",
    "    - one hot encoding on categorical features\n",
    "    '''\n",
    "    \n",
    "    X_numerical = X.drop(categorical_cols, axis=1)\n",
    "    # X_numberical_imputed = impute(X_numerical) #block as it does not help\n",
    "\n",
    "    X_categorical_oh = encoding(X, categorical_cols)\n",
    "    \n",
    "    # Add one-hot encoded columns to numerical features\n",
    "    OH_X_train = pd.concat([X_numerical, X_categorical_oh], axis=1)\n",
    "    return OH_X_train\n",
    "\n",
    "EX = process_features(X_all, categorical_cols)\n",
    "print(EX.shape)"
   ]
  },
  {
   "cell_type": "code",
   "execution_count": 4,
   "id": "83a9ea83",
   "metadata": {
    "execution": {
     "iopub.execute_input": "2022-07-24T19:25:06.709900Z",
     "iopub.status.busy": "2022-07-24T19:25:06.709116Z",
     "iopub.status.idle": "2022-07-24T19:25:06.729286Z",
     "shell.execute_reply": "2022-07-24T19:25:06.728145Z"
    },
    "papermill": {
     "duration": 0.027464,
     "end_time": "2022-07-24T19:25:06.731496",
     "exception": false,
     "start_time": "2022-07-24T19:25:06.704032",
     "status": "completed"
    },
    "tags": []
   },
   "outputs": [
    {
     "name": "stdout",
     "output_type": "stream",
     "text": [
      "1157 290\n"
     ]
    }
   ],
   "source": [
    "# train test split\n",
    "X_train, X_val, y_train, y_val = train_test_split(EX[EX['mode']==0], y, random_state=11, test_size=0.2)\n",
    "print(len(X_train), len(X_val))"
   ]
  },
  {
   "cell_type": "markdown",
   "id": "45fdb952",
   "metadata": {
    "papermill": {
     "duration": 0.003783,
     "end_time": "2022-07-24T19:25:06.739235",
     "exception": false,
     "start_time": "2022-07-24T19:25:06.735452",
     "status": "completed"
    },
    "tags": []
   },
   "source": [
    "## Train model"
   ]
  },
  {
   "cell_type": "code",
   "execution_count": 5,
   "id": "d22ec1e4",
   "metadata": {
    "execution": {
     "iopub.execute_input": "2022-07-24T19:25:06.748918Z",
     "iopub.status.busy": "2022-07-24T19:25:06.748282Z",
     "iopub.status.idle": "2022-07-24T19:25:35.223367Z",
     "shell.execute_reply": "2022-07-24T19:25:35.221203Z"
    },
    "papermill": {
     "duration": 28.48372,
     "end_time": "2022-07-24T19:25:35.226775",
     "exception": false,
     "start_time": "2022-07-24T19:25:06.743055",
     "status": "completed"
    },
    "tags": []
   },
   "outputs": [
    {
     "name": "stdout",
     "output_type": "stream",
     "text": [
      "Validation MAE for XGB Model: 15,035\n"
     ]
    }
   ],
   "source": [
    "# Define XGB\n",
    "\n",
    "from xgboost import XGBRegressor\n",
    "\n",
    "gbt_model = XGBRegressor(n_estimators=5000, learning_rate=0.05, n_jobs=8, early_stopping_rounds=1000)\n",
    "gbt_model.fit(X_train, y_train, \n",
    "             eval_set=[(X_val, y_val)], \n",
    "             verbose=False)\n",
    "gbt_pred = gbt_model.predict(X_val)\n",
    "gbt_mae = mean_absolute_error(np.exp(y_val), np.exp(gbt_pred))\n",
    "print(\"Validation MAE for XGB Model: {:,.0f}\".format(gbt_mae))\n"
   ]
  },
  {
   "cell_type": "markdown",
   "id": "aff639d2",
   "metadata": {
    "papermill": {
     "duration": 0.003882,
     "end_time": "2022-07-24T19:25:35.235229",
     "exception": false,
     "start_time": "2022-07-24T19:25:35.231347",
     "status": "completed"
    },
    "tags": []
   },
   "source": [
    "# Error analysis"
   ]
  },
  {
   "cell_type": "code",
   "execution_count": 6,
   "id": "36a7f666",
   "metadata": {
    "execution": {
     "iopub.execute_input": "2022-07-24T19:25:35.244865Z",
     "iopub.status.busy": "2022-07-24T19:25:35.244496Z",
     "iopub.status.idle": "2022-07-24T19:25:35.669696Z",
     "shell.execute_reply": "2022-07-24T19:25:35.668788Z"
    },
    "papermill": {
     "duration": 0.433324,
     "end_time": "2022-07-24T19:25:35.672415",
     "exception": false,
     "start_time": "2022-07-24T19:25:35.239091",
     "status": "completed"
    },
    "tags": []
   },
   "outputs": [
    {
     "name": "stderr",
     "output_type": "stream",
     "text": [
      "/opt/conda/lib/python3.7/site-packages/seaborn/_decorators.py:43: FutureWarning: Pass the following variables as keyword args: x, y. From version 0.12, the only valid positional argument will be `data`, and passing other arguments without an explicit keyword will result in an error or misinterpretation.\n",
      "  FutureWarning\n"
     ]
    },
    {
     "data": {
      "text/plain": [
       "Text(0, 0.5, 'Predicted Price (log scale)')"
      ]
     },
     "execution_count": 6,
     "metadata": {},
     "output_type": "execute_result"
    },
    {
     "data": {
      "image/png": "[encoded data removed]",
      "text/plain": [
       "<Figure size 432x288 with 1 Axes>"
      ]
     },
     "metadata": {
      "needs_background": "light"
     },
     "output_type": "display_data"
    }
   ],
   "source": [
    "import matplotlib.pyplot as plt\n",
    "import seaborn as sns\n",
    "\n",
    "# Predict vs Actual\n",
    "# obs: high bias over high value regime\n",
    "ax = sns.scatterplot(x=y_val, y=gbt_pred)\n",
    "sns.lineplot([11,14], [11,14], color='r')\n",
    "# ax.set(xscale=\"log\", yscale=\"log\")\n",
    "ax.set_xlabel(\"Actual Price (log scale)\")\n",
    "ax.set_ylabel(\"Predicted Price (log scale)\")"
   ]
  },
  {
   "cell_type": "code",
   "execution_count": 7,
   "id": "b517464f",
   "metadata": {
    "execution": {
     "iopub.execute_input": "2022-07-24T19:25:35.683015Z",
     "iopub.status.busy": "2022-07-24T19:25:35.682654Z",
     "iopub.status.idle": "2022-07-24T19:25:35.975261Z",
     "shell.execute_reply": "2022-07-24T19:25:35.974117Z"
    },
    "papermill": {
     "duration": 0.300422,
     "end_time": "2022-07-24T19:25:35.977451",
     "exception": false,
     "start_time": "2022-07-24T19:25:35.677029",
     "status": "completed"
    },
    "tags": []
   },
   "outputs": [
    {
     "data": {
      "text/plain": [
       "Text(0, 0.5, 'Residual')"
      ]
     },
     "execution_count": 7,
     "metadata": {},
     "output_type": "execute_result"
    },
    {
     "data": {
      "image/png": "[encoded data removed]",
      "text/plain": [
       "<Figure size 432x288 with 1 Axes>"
      ]
     },
     "metadata": {
      "needs_background": "light"
     },
     "output_type": "display_data"
    }
   ],
   "source": [
    "# residual plot\n",
    "# obs: nonconst-variance, variance is increasing in high value regime\n",
    "res = gbt_pred - y_val\n",
    "ax2 = sns.regplot(x=gbt_pred, y=res)\n",
    "ax2.set_xlabel(\"Predicted Price\")\n",
    "ax2.set_ylabel(\"Residual\")"
   ]
  },
  {
   "cell_type": "code",
   "execution_count": 8,
   "id": "8dbc9213",
   "metadata": {
    "execution": {
     "iopub.execute_input": "2022-07-24T19:25:35.989508Z",
     "iopub.status.busy": "2022-07-24T19:25:35.988876Z",
     "iopub.status.idle": "2022-07-24T19:25:36.178141Z",
     "shell.execute_reply": "2022-07-24T19:25:36.177309Z"
    },
    "papermill": {
     "duration": 0.197692,
     "end_time": "2022-07-24T19:25:36.180289",
     "exception": false,
     "start_time": "2022-07-24T19:25:35.982597",
     "status": "completed"
    },
    "tags": []
   },
   "outputs": [
    {
     "name": "stderr",
     "output_type": "stream",
     "text": [
      "/opt/conda/lib/python3.7/site-packages/seaborn/_decorators.py:43: FutureWarning: Pass the following variables as keyword args: x, y. From version 0.12, the only valid positional argument will be `data`, and passing other arguments without an explicit keyword will result in an error or misinterpretation.\n",
      "  FutureWarning\n"
     ]
    },
    {
     "data": {
      "text/plain": [
       "<AxesSubplot:xlabel='SalePrice'>"
      ]
     },
     "execution_count": 8,
     "metadata": {},
     "output_type": "execute_result"
    },
    {
     "data": {
      "image/png": "[encoded data removed]",
      "text/plain": [
       "<Figure size 432x288 with 1 Axes>"
      ]
     },
     "metadata": {
      "needs_background": "light"
     },
     "output_type": "display_data"
    }
   ],
   "source": [
    "# detecting outlier price\n",
    "# sns.kdeplot(x=y_train)\n",
    "# sns.kdeplot(x=y_val)\n",
    "# y_summary = y_train.describe()\n",
    "# upper_bound = y_summary['mean'] + y_summary['std']\n",
    "# len(y_train[y_train>upper_bound])\n",
    "\n",
    "sns.scatterplot(x=np.exp(y_val), y=np.exp(gbt_pred))\n",
    "sns.lineplot([0, 600000], [0,600000], color='y')"
   ]
  },
  {
   "cell_type": "code",
   "execution_count": null,
   "id": "c8aba47a",
   "metadata": {
    "papermill": {
     "duration": 0.005259,
     "end_time": "2022-07-24T19:25:36.191239",
     "exception": false,
     "start_time": "2022-07-24T19:25:36.185980",
     "status": "completed"
    },
    "tags": []
   },
   "outputs": [],
   "source": []
  },
  {
   "cell_type": "code",
   "execution_count": null,
   "id": "dc9e67ee",
   "metadata": {
    "papermill": {
     "duration": 0.005172,
     "end_time": "2022-07-24T19:25:36.202360",
     "exception": false,
     "start_time": "2022-07-24T19:25:36.197188",
     "status": "completed"
    },
    "tags": []
   },
   "outputs": [],
   "source": []
  },
  {
   "cell_type": "markdown",
   "id": "1a7aaf11",
   "metadata": {
    "papermill": {
     "duration": 0.00521,
     "end_time": "2022-07-24T19:25:36.213026",
     "exception": false,
     "start_time": "2022-07-24T19:25:36.207816",
     "status": "completed"
    },
    "tags": []
   },
   "source": [
    "# Generate a submission\n",
    "\n",
    "Run the code cell below to generate a CSV file with your predictions that you can use to submit to the competition."
   ]
  },
  {
   "cell_type": "code",
   "execution_count": 9,
   "id": "6ac9a578",
   "metadata": {
    "execution": {
     "iopub.execute_input": "2022-07-24T19:25:36.226260Z",
     "iopub.status.busy": "2022-07-24T19:25:36.225550Z",
     "iopub.status.idle": "2022-07-24T19:25:36.306859Z",
     "shell.execute_reply": "2022-07-24T19:25:36.305512Z"
    },
    "papermill": {
     "duration": 0.091066,
     "end_time": "2022-07-24T19:25:36.309593",
     "exception": false,
     "start_time": "2022-07-24T19:25:36.218527",
     "status": "completed"
    },
    "tags": []
   },
   "outputs": [
    {
     "name": "stdout",
     "output_type": "stream",
     "text": [
      "[128585.22 160952.4  193740.77 ... 152672.94 112325.28 228978.83]\n"
     ]
    },
    {
     "data": {
      "text/html": [
       "<div>\n",
       "<style scoped>\n",
       "    .dataframe tbody tr th:only-of-type {\n",
       "        vertical-align: middle;\n",
       "    }\n",
       "\n",
       "    .dataframe tbody tr th {\n",
       "        vertical-align: top;\n",
       "    }\n",
       "\n",
       "    .dataframe thead th {\n",
       "        text-align: right;\n",
       "    }\n",
       "</style>\n",
       "<table border=\"1\" class=\"dataframe\">\n",
       "  <thead>\n",
       "    <tr style=\"text-align: right;\">\n",
       "      <th></th>\n",
       "      <th>Id</th>\n",
       "      <th>MSSubClass</th>\n",
       "      <th>LotFrontage</th>\n",
       "      <th>LotArea</th>\n",
       "      <th>OverallQual</th>\n",
       "      <th>OverallCond</th>\n",
       "      <th>YearBuilt</th>\n",
       "      <th>YearRemodAdd</th>\n",
       "      <th>MasVnrArea</th>\n",
       "      <th>BsmtFinSF1</th>\n",
       "      <th>...</th>\n",
       "      <th>264</th>\n",
       "      <th>265</th>\n",
       "      <th>266</th>\n",
       "      <th>267</th>\n",
       "      <th>268</th>\n",
       "      <th>269</th>\n",
       "      <th>270</th>\n",
       "      <th>271</th>\n",
       "      <th>272</th>\n",
       "      <th>273</th>\n",
       "    </tr>\n",
       "  </thead>\n",
       "  <tbody>\n",
       "    <tr>\n",
       "      <th>0</th>\n",
       "      <td>1461</td>\n",
       "      <td>20</td>\n",
       "      <td>80.0</td>\n",
       "      <td>11622</td>\n",
       "      <td>5</td>\n",
       "      <td>6</td>\n",
       "      <td>1961</td>\n",
       "      <td>1961</td>\n",
       "      <td>0.0</td>\n",
       "      <td>468.0</td>\n",
       "      <td>...</td>\n",
       "      <td>0.0</td>\n",
       "      <td>0.0</td>\n",
       "      <td>1.0</td>\n",
       "      <td>0.0</td>\n",
       "      <td>0.0</td>\n",
       "      <td>0.0</td>\n",
       "      <td>0.0</td>\n",
       "      <td>0.0</td>\n",
       "      <td>1.0</td>\n",
       "      <td>0.0</td>\n",
       "    </tr>\n",
       "    <tr>\n",
       "      <th>1</th>\n",
       "      <td>1462</td>\n",
       "      <td>20</td>\n",
       "      <td>81.0</td>\n",
       "      <td>14267</td>\n",
       "      <td>6</td>\n",
       "      <td>6</td>\n",
       "      <td>1958</td>\n",
       "      <td>1958</td>\n",
       "      <td>108.0</td>\n",
       "      <td>923.0</td>\n",
       "      <td>...</td>\n",
       "      <td>0.0</td>\n",
       "      <td>0.0</td>\n",
       "      <td>1.0</td>\n",
       "      <td>0.0</td>\n",
       "      <td>0.0</td>\n",
       "      <td>0.0</td>\n",
       "      <td>0.0</td>\n",
       "      <td>0.0</td>\n",
       "      <td>1.0</td>\n",
       "      <td>0.0</td>\n",
       "    </tr>\n",
       "    <tr>\n",
       "      <th>2</th>\n",
       "      <td>1463</td>\n",
       "      <td>60</td>\n",
       "      <td>74.0</td>\n",
       "      <td>13830</td>\n",
       "      <td>5</td>\n",
       "      <td>5</td>\n",
       "      <td>1997</td>\n",
       "      <td>1998</td>\n",
       "      <td>0.0</td>\n",
       "      <td>791.0</td>\n",
       "      <td>...</td>\n",
       "      <td>0.0</td>\n",
       "      <td>0.0</td>\n",
       "      <td>1.0</td>\n",
       "      <td>0.0</td>\n",
       "      <td>0.0</td>\n",
       "      <td>0.0</td>\n",
       "      <td>0.0</td>\n",
       "      <td>0.0</td>\n",
       "      <td>1.0</td>\n",
       "      <td>0.0</td>\n",
       "    </tr>\n",
       "    <tr>\n",
       "      <th>3</th>\n",
       "      <td>1464</td>\n",
       "      <td>60</td>\n",
       "      <td>78.0</td>\n",
       "      <td>9978</td>\n",
       "      <td>6</td>\n",
       "      <td>6</td>\n",
       "      <td>1998</td>\n",
       "      <td>1998</td>\n",
       "      <td>20.0</td>\n",
       "      <td>602.0</td>\n",
       "      <td>...</td>\n",
       "      <td>0.0</td>\n",
       "      <td>0.0</td>\n",
       "      <td>1.0</td>\n",
       "      <td>0.0</td>\n",
       "      <td>0.0</td>\n",
       "      <td>0.0</td>\n",
       "      <td>0.0</td>\n",
       "      <td>0.0</td>\n",
       "      <td>1.0</td>\n",
       "      <td>0.0</td>\n",
       "    </tr>\n",
       "    <tr>\n",
       "      <th>4</th>\n",
       "      <td>1465</td>\n",
       "      <td>120</td>\n",
       "      <td>43.0</td>\n",
       "      <td>5005</td>\n",
       "      <td>8</td>\n",
       "      <td>5</td>\n",
       "      <td>1992</td>\n",
       "      <td>1992</td>\n",
       "      <td>0.0</td>\n",
       "      <td>263.0</td>\n",
       "      <td>...</td>\n",
       "      <td>0.0</td>\n",
       "      <td>0.0</td>\n",
       "      <td>1.0</td>\n",
       "      <td>0.0</td>\n",
       "      <td>0.0</td>\n",
       "      <td>0.0</td>\n",
       "      <td>0.0</td>\n",
       "      <td>0.0</td>\n",
       "      <td>1.0</td>\n",
       "      <td>0.0</td>\n",
       "    </tr>\n",
       "    <tr>\n",
       "      <th>...</th>\n",
       "      <td>...</td>\n",
       "      <td>...</td>\n",
       "      <td>...</td>\n",
       "      <td>...</td>\n",
       "      <td>...</td>\n",
       "      <td>...</td>\n",
       "      <td>...</td>\n",
       "      <td>...</td>\n",
       "      <td>...</td>\n",
       "      <td>...</td>\n",
       "      <td>...</td>\n",
       "      <td>...</td>\n",
       "      <td>...</td>\n",
       "      <td>...</td>\n",
       "      <td>...</td>\n",
       "      <td>...</td>\n",
       "      <td>...</td>\n",
       "      <td>...</td>\n",
       "      <td>...</td>\n",
       "      <td>...</td>\n",
       "      <td>...</td>\n",
       "    </tr>\n",
       "    <tr>\n",
       "      <th>1454</th>\n",
       "      <td>2915</td>\n",
       "      <td>160</td>\n",
       "      <td>21.0</td>\n",
       "      <td>1936</td>\n",
       "      <td>4</td>\n",
       "      <td>7</td>\n",
       "      <td>1970</td>\n",
       "      <td>1970</td>\n",
       "      <td>0.0</td>\n",
       "      <td>0.0</td>\n",
       "      <td>...</td>\n",
       "      <td>0.0</td>\n",
       "      <td>0.0</td>\n",
       "      <td>1.0</td>\n",
       "      <td>0.0</td>\n",
       "      <td>0.0</td>\n",
       "      <td>0.0</td>\n",
       "      <td>0.0</td>\n",
       "      <td>0.0</td>\n",
       "      <td>1.0</td>\n",
       "      <td>0.0</td>\n",
       "    </tr>\n",
       "    <tr>\n",
       "      <th>1455</th>\n",
       "      <td>2916</td>\n",
       "      <td>160</td>\n",
       "      <td>21.0</td>\n",
       "      <td>1894</td>\n",
       "      <td>4</td>\n",
       "      <td>5</td>\n",
       "      <td>1970</td>\n",
       "      <td>1970</td>\n",
       "      <td>0.0</td>\n",
       "      <td>252.0</td>\n",
       "      <td>...</td>\n",
       "      <td>0.0</td>\n",
       "      <td>0.0</td>\n",
       "      <td>1.0</td>\n",
       "      <td>0.0</td>\n",
       "      <td>1.0</td>\n",
       "      <td>0.0</td>\n",
       "      <td>0.0</td>\n",
       "      <td>0.0</td>\n",
       "      <td>0.0</td>\n",
       "      <td>0.0</td>\n",
       "    </tr>\n",
       "    <tr>\n",
       "      <th>1456</th>\n",
       "      <td>2917</td>\n",
       "      <td>20</td>\n",
       "      <td>160.0</td>\n",
       "      <td>20000</td>\n",
       "      <td>5</td>\n",
       "      <td>7</td>\n",
       "      <td>1960</td>\n",
       "      <td>1996</td>\n",
       "      <td>0.0</td>\n",
       "      <td>1224.0</td>\n",
       "      <td>...</td>\n",
       "      <td>0.0</td>\n",
       "      <td>0.0</td>\n",
       "      <td>1.0</td>\n",
       "      <td>0.0</td>\n",
       "      <td>1.0</td>\n",
       "      <td>0.0</td>\n",
       "      <td>0.0</td>\n",
       "      <td>0.0</td>\n",
       "      <td>0.0</td>\n",
       "      <td>0.0</td>\n",
       "    </tr>\n",
       "    <tr>\n",
       "      <th>1457</th>\n",
       "      <td>2918</td>\n",
       "      <td>85</td>\n",
       "      <td>62.0</td>\n",
       "      <td>10441</td>\n",
       "      <td>5</td>\n",
       "      <td>5</td>\n",
       "      <td>1992</td>\n",
       "      <td>1992</td>\n",
       "      <td>0.0</td>\n",
       "      <td>337.0</td>\n",
       "      <td>...</td>\n",
       "      <td>0.0</td>\n",
       "      <td>0.0</td>\n",
       "      <td>1.0</td>\n",
       "      <td>0.0</td>\n",
       "      <td>0.0</td>\n",
       "      <td>0.0</td>\n",
       "      <td>0.0</td>\n",
       "      <td>0.0</td>\n",
       "      <td>1.0</td>\n",
       "      <td>0.0</td>\n",
       "    </tr>\n",
       "    <tr>\n",
       "      <th>1458</th>\n",
       "      <td>2919</td>\n",
       "      <td>60</td>\n",
       "      <td>74.0</td>\n",
       "      <td>9627</td>\n",
       "      <td>7</td>\n",
       "      <td>5</td>\n",
       "      <td>1993</td>\n",
       "      <td>1994</td>\n",
       "      <td>94.0</td>\n",
       "      <td>758.0</td>\n",
       "      <td>...</td>\n",
       "      <td>0.0</td>\n",
       "      <td>0.0</td>\n",
       "      <td>1.0</td>\n",
       "      <td>0.0</td>\n",
       "      <td>0.0</td>\n",
       "      <td>0.0</td>\n",
       "      <td>0.0</td>\n",
       "      <td>0.0</td>\n",
       "      <td>1.0</td>\n",
       "      <td>0.0</td>\n",
       "    </tr>\n",
       "  </tbody>\n",
       "</table>\n",
       "<p>1459 rows × 312 columns</p>\n",
       "</div>"
      ],
      "text/plain": [
       "        Id  MSSubClass  LotFrontage  LotArea  OverallQual  OverallCond  \\\n",
       "0     1461          20         80.0    11622            5            6   \n",
       "1     1462          20         81.0    14267            6            6   \n",
       "2     1463          60         74.0    13830            5            5   \n",
       "3     1464          60         78.0     9978            6            6   \n",
       "4     1465         120         43.0     5005            8            5   \n",
       "...    ...         ...          ...      ...          ...          ...   \n",
       "1454  2915         160         21.0     1936            4            7   \n",
       "1455  2916         160         21.0     1894            4            5   \n",
       "1456  2917          20        160.0    20000            5            7   \n",
       "1457  2918          85         62.0    10441            5            5   \n",
       "1458  2919          60         74.0     9627            7            5   \n",
       "\n",
       "      YearBuilt  YearRemodAdd  MasVnrArea  BsmtFinSF1  ...  264  265  266  \\\n",
       "0          1961          1961         0.0       468.0  ...  0.0  0.0  1.0   \n",
       "1          1958          1958       108.0       923.0  ...  0.0  0.0  1.0   \n",
       "2          1997          1998         0.0       791.0  ...  0.0  0.0  1.0   \n",
       "3          1998          1998        20.0       602.0  ...  0.0  0.0  1.0   \n",
       "4          1992          1992         0.0       263.0  ...  0.0  0.0  1.0   \n",
       "...         ...           ...         ...         ...  ...  ...  ...  ...   \n",
       "1454       1970          1970         0.0         0.0  ...  0.0  0.0  1.0   \n",
       "1455       1970          1970         0.0       252.0  ...  0.0  0.0  1.0   \n",
       "1456       1960          1996         0.0      1224.0  ...  0.0  0.0  1.0   \n",
       "1457       1992          1992         0.0       337.0  ...  0.0  0.0  1.0   \n",
       "1458       1993          1994        94.0       758.0  ...  0.0  0.0  1.0   \n",
       "\n",
       "      267  268  269  270  271  272  273  \n",
       "0     0.0  0.0  0.0  0.0  0.0  1.0  0.0  \n",
       "1     0.0  0.0  0.0  0.0  0.0  1.0  0.0  \n",
       "2     0.0  0.0  0.0  0.0  0.0  1.0  0.0  \n",
       "3     0.0  0.0  0.0  0.0  0.0  1.0  0.0  \n",
       "4     0.0  0.0  0.0  0.0  0.0  1.0  0.0  \n",
       "...   ...  ...  ...  ...  ...  ...  ...  \n",
       "1454  0.0  0.0  0.0  0.0  0.0  1.0  0.0  \n",
       "1455  0.0  1.0  0.0  0.0  0.0  0.0  0.0  \n",
       "1456  0.0  1.0  0.0  0.0  0.0  0.0  0.0  \n",
       "1457  0.0  0.0  0.0  0.0  0.0  1.0  0.0  \n",
       "1458  0.0  0.0  0.0  0.0  0.0  1.0  0.0  \n",
       "\n",
       "[1459 rows x 312 columns]"
      ]
     },
     "execution_count": 9,
     "metadata": {},
     "output_type": "execute_result"
    }
   ],
   "source": [
    "# make predictions which we will submit. \n",
    "test_preds = np.exp(gbt_model.predict(EX[EX['mode']==1]))\n",
    "print(test_preds)\n",
    "\n",
    "EX[EX['mode']==1].reset_index()"
   ]
  },
  {
   "cell_type": "code",
   "execution_count": 10,
   "id": "bc255f23",
   "metadata": {
    "execution": {
     "iopub.execute_input": "2022-07-24T19:25:36.324085Z",
     "iopub.status.busy": "2022-07-24T19:25:36.323301Z",
     "iopub.status.idle": "2022-07-24T19:25:36.336641Z",
     "shell.execute_reply": "2022-07-24T19:25:36.335551Z"
    },
    "papermill": {
     "duration": 0.023346,
     "end_time": "2022-07-24T19:25:36.339241",
     "exception": false,
     "start_time": "2022-07-24T19:25:36.315895",
     "status": "completed"
    },
    "tags": []
   },
   "outputs": [],
   "source": [
    "# Run the code to save predictions in the format used for competition scoring\n",
    "\n",
    "output = pd.DataFrame({'Id': EX[EX['mode']==1].index,\n",
    "                       'SalePrice': test_preds})\n",
    "output.to_csv('submission.csv', index=False)"
   ]
  },
  {
   "cell_type": "markdown",
   "id": "c1202ff8",
   "metadata": {
    "papermill": {
     "duration": 0.005677,
     "end_time": "2022-07-24T19:25:36.351712",
     "exception": false,
     "start_time": "2022-07-24T19:25:36.346035",
     "status": "completed"
    },
    "tags": []
   },
   "source": [
    "---\n",
    "\n",
    "\n",
    "\n",
    "\n",
    "*Have questions or comments? Visit the [course discussion forum](https://www.kaggle.com/learn/intro-to-machine-learning/discussion) to chat with other learners.*"
   ]
  }
 ],
 "metadata": {
  "kernelspec": {
   "display_name": "Python 3",
   "language": "python",
   "name": "python3"
  },
  "language_info": {
   "codemirror_mode": {
    "name": "ipython",
    "version": 3
   },
   "file_extension": ".py",
   "mimetype": "text/x-python",
   "name": "python",
   "nbconvert_exporter": "python",
   "pygments_lexer": "ipython3",
   "version": "3.9.5"
  },
  "papermill": {
   "default_parameters": {},
   "duration": 40.145956,
   "end_time": "2022-07-24T19:25:37.081462",
   "environment_variables": {},
   "exception": null,
   "input_path": "__notebook__.ipynb",
   "output_path": "__notebook__.ipynb",
   "parameters": {},
   "start_time": "2022-07-24T19:24:56.935506",
   "version": "2.3.4"
  }
 },
 "nbformat": 4,
 "nbformat_minor": 5
}
